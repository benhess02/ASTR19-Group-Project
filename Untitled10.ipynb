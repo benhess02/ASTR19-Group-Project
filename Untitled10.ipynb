{
 "cells": [
  {
   "cell_type": "code",
   "execution_count": 1,
   "id": "09a59f4a-c365-4e70-9cfd-567132432108",
   "metadata": {},
   "outputs": [
    {
     "ename": "NameError",
     "evalue": "name 'tide_heights' is not defined",
     "output_type": "error",
     "traceback": [
      "\u001b[0;31m---------------------------------------------------------------------------\u001b[0m",
      "\u001b[0;31mNameError\u001b[0m                                 Traceback (most recent call last)",
      "Cell \u001b[0;32mIn[1], line 3\u001b[0m\n\u001b[1;32m      1\u001b[0m \u001b[38;5;66;03m#Adds tsunami outlier\u001b[39;00m\n\u001b[1;32m      2\u001b[0m outlier_value \u001b[38;5;241m=\u001b[39m \u001b[38;5;241m2\u001b[39m\n\u001b[0;32m----> 3\u001b[0m tide_heights_with_outlier \u001b[38;5;241m=\u001b[39m \u001b[43mtide_heights\u001b[49m\u001b[38;5;241m.\u001b[39mcopy()\n\u001b[1;32m      4\u001b[0m tide_heights_with_outlier[days\u001b[38;5;241m.\u001b[39mindex(\u001b[38;5;241m14\u001b[39m)] \u001b[38;5;241m+\u001b[39m\u001b[38;5;241m=\u001b[39m outlier_value\n\u001b[1;32m      6\u001b[0m \u001b[38;5;66;03m#Calculates residuals with tsunami outlier\u001b[39;00m\n",
      "\u001b[0;31mNameError\u001b[0m: name 'tide_heights' is not defined"
     ]
    }
   ],
   "source": [
    "#Adds tsunami outlier\n",
    "outlier_value = 2\n",
    "tide_heights_with_outlier = tide_heights.copy()\n",
    "tide_heights_with_outlier[days.index(14)] += outlier_value\n",
    "\n",
    "#Calculates residuals with tsunami outlier\n",
    "residuals_with_outlier = tide_heights_with_outlier - modeled_tide\n",
    "\n",
    "#Plots histogram with tsunami outlier\n",
    "plt.figure(figsize=(10, 6))\n",
    "plt.hist(residuals_with_outlier, color='green', edgecolor='black')\n",
    "plt.axvline(outlier_value, color='red', label='Tsunami Outlier')\n",
    "plt.title('Histogram of Residuals with Tsunami Outlier')\n",
    "plt.xlabel('Residuals (feet)')\n",
    "plt.ylabel('Frequency')\n",
    "plt.legend()\n",
    "plt.grid(True)\n",
    "plt.show()\n",
    "\n",
    "#Measures standard deviation of residuals with tsunami outlier\n",
    "std_dev_residuals_with_outlier = np.std(residuals_with_outlier)\n",
    "print(f\"Standard Deviation of Residuals with Tsunami Outlier: {std_dev_residuals_with_outlier} feet\")\n"
   ]
  },
  {
   "cell_type": "code",
   "execution_count": null,
   "id": "c486ab9f-f9bb-4f25-a3be-b943063d18cb",
   "metadata": {},
   "outputs": [],
   "source": []
  }
 ],
 "metadata": {
  "kernelspec": {
   "display_name": "Python 3 (ipykernel)",
   "language": "python",
   "name": "python3"
  },
  "language_info": {
   "codemirror_mode": {
    "name": "ipython",
    "version": 3
   },
   "file_extension": ".py",
   "mimetype": "text/x-python",
   "name": "python",
   "nbconvert_exporter": "python",
   "pygments_lexer": "ipython3",
   "version": "3.11.6"
  }
 },
 "nbformat": 4,
 "nbformat_minor": 5
}
