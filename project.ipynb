{
 "cells": [
  {
   "cell_type": "code",
   "execution_count": 3,
   "metadata": {},
   "outputs": [],
   "source": [
    "import numpy as np\n",
    "import scipy"
   ]
  },
  {
   "cell_type": "code",
   "execution_count": 21,
   "metadata": {},
   "outputs": [
    {
     "data": {
      "text/plain": [
       "array([[ 1.00e+00,       nan,  6.57e+00],\n",
       "       [ 1.00e+00,       nan, -3.90e-01],\n",
       "       [ 2.00e+00,       nan,  5.38e+00],\n",
       "       [ 2.00e+00,       nan, -1.74e+00],\n",
       "       [ 3.00e+00,       nan,  5.26e+00],\n",
       "       [ 3.00e+00,       nan, -1.36e+00],\n",
       "       [ 4.00e+00,       nan,  4.13e+00],\n",
       "       [ 4.00e+00,       nan, -1.15e+00],\n",
       "       [ 5.00e+00,       nan,  3.48e+00],\n",
       "       [ 5.00e+00,       nan, -1.61e+00],\n",
       "       [ 6.00e+00,       nan,  2.62e+00],\n",
       "       [ 6.00e+00,       nan,  5.00e-02],\n",
       "       [ 7.00e+00,       nan,  1.83e+00],\n",
       "       [ 7.00e+00,       nan,  1.01e+00],\n",
       "       [ 8.00e+00,       nan,  3.57e+00],\n",
       "       [ 8.00e+00,       nan,  7.30e-01],\n",
       "       [ 9.00e+00,       nan,  4.54e+00],\n",
       "       [ 9.00e+00,       nan,  2.17e+00],\n",
       "       [ 1.00e+01,       nan,  3.76e+00],\n",
       "       [ 1.00e+01,       nan,  2.88e+00],\n",
       "       [ 1.10e+01,       nan,  3.90e+00],\n",
       "       [ 1.10e+01,       nan,  1.92e+00],\n",
       "       [ 1.20e+01,       nan,  4.73e+00],\n",
       "       [ 1.20e+01,       nan,  1.74e+00],\n",
       "       [ 1.30e+01,       nan,  5.66e+00],\n",
       "       [ 1.30e+01,       nan,  7.90e-01],\n",
       "       [ 1.40e+01,       nan,  5.33e+00],\n",
       "       [ 1.40e+01,       nan, -4.00e-02],\n",
       "       [ 1.50e+01,       nan,  5.23e+00],\n",
       "       [ 1.50e+01,       nan, -1.12e+00],\n",
       "       [ 1.60e+01,       nan,  6.67e+00],\n",
       "       [ 1.60e+01,       nan, -6.10e-01],\n",
       "       [ 1.70e+01,       nan,  4.74e+00],\n",
       "       [ 1.70e+01,       nan, -9.30e-01],\n",
       "       [ 1.80e+01,       nan,  4.69e+00],\n",
       "       [ 1.80e+01,       nan, -1.29e+00],\n",
       "       [ 1.90e+01,       nan,  4.20e+00],\n",
       "       [ 1.90e+01,       nan,  2.20e-01],\n",
       "       [ 2.00e+01,       nan,  3.68e+00],\n",
       "       [ 2.00e+01,       nan,  2.60e-01],\n",
       "       [ 2.10e+01,       nan,  2.47e+00],\n",
       "       [ 2.10e+01,       nan,  3.60e-01],\n",
       "       [ 2.20e+01,       nan,  2.59e+00],\n",
       "       [ 2.20e+01,       nan,  9.90e-01],\n",
       "       [ 2.30e+01,       nan,  4.10e+00],\n",
       "       [ 2.30e+01,       nan,  1.87e+00],\n",
       "       [ 2.40e+01,       nan,  3.17e+00],\n",
       "       [ 2.40e+01,       nan,  1.60e+00],\n",
       "       [ 2.50e+01,       nan,  3.71e+00],\n",
       "       [ 2.50e+01,       nan,  3.10e+00],\n",
       "       [ 2.60e+01,       nan,  4.04e+00],\n",
       "       [ 2.60e+01,       nan,  2.49e+00],\n",
       "       [ 2.70e+01,       nan,  4.07e+00],\n",
       "       [ 2.70e+01,       nan,  2.18e+00],\n",
       "       [ 2.80e+01,       nan,  5.93e+00],\n",
       "       [ 2.80e+01,       nan,  7.00e-01],\n",
       "       [ 2.90e+01,       nan,  6.89e+00],\n",
       "       [ 2.90e+01,       nan,  2.10e-01],\n",
       "       [ 3.00e+01,       nan,  6.72e+00],\n",
       "       [ 3.00e+01,       nan,  2.20e-01],\n",
       "       [ 3.10e+01,       nan,  6.77e+00],\n",
       "       [ 3.10e+01,       nan, -1.68e+00],\n",
       "       [ 3.20e+01,       nan,  5.77e+00],\n",
       "       [ 3.20e+01,       nan, -1.32e+00],\n",
       "       [ 3.30e+01,       nan,  4.35e+00],\n",
       "       [ 3.30e+01,       nan, -7.30e-01],\n",
       "       [ 3.40e+01,       nan,  4.23e+00],\n",
       "       [ 3.40e+01,       nan, -3.80e-01],\n",
       "       [ 3.50e+01,       nan,  2.24e+00],\n",
       "       [ 3.50e+01,       nan, -6.10e-01],\n",
       "       [ 3.60e+01,       nan,  3.45e+00],\n",
       "       [ 3.60e+01,       nan, -4.60e-01],\n",
       "       [ 3.70e+01,       nan,  4.13e+00],\n",
       "       [ 3.70e+01,       nan,  1.21e+00],\n",
       "       [ 3.80e+01,       nan,  3.34e+00],\n",
       "       [ 3.80e+01,       nan,  2.58e+00],\n",
       "       [ 3.90e+01,       nan,  3.32e+00],\n",
       "       [ 3.90e+01,       nan,  3.26e+00],\n",
       "       [ 4.00e+01,       nan,  5.21e+00],\n",
       "       [ 4.00e+01,       nan,  2.39e+00],\n",
       "       [ 4.10e+01,       nan,  4.83e+00],\n",
       "       [ 4.10e+01,       nan,  2.41e+00]])"
      ]
     },
     "execution_count": 21,
     "metadata": {},
     "output_type": "execute_result"
    }
   ],
   "source": [
    "np.genfromtxt(\"ASTR19_S22_group_project_data.txt\")"
   ]
  }
 ],
 "metadata": {
  "kernelspec": {
   "display_name": "Python 3",
   "language": "python",
   "name": "python3"
  },
  "language_info": {
   "codemirror_mode": {
    "name": "ipython",
    "version": 3
   },
   "file_extension": ".py",
   "mimetype": "text/x-python",
   "name": "python",
   "nbconvert_exporter": "python",
   "pygments_lexer": "ipython3",
   "version": "3.10.12"
  }
 },
 "nbformat": 4,
 "nbformat_minor": 2
}
